{
  "cells": [
    {
      "cell_type": "markdown",
      "metadata": {
        "colab_type": "text",
        "id": "view-in-github"
      },
      "source": [
        "<a href=\"https://colab.research.google.com/github/tlenzmeier58/big_data_challenge/blob/main/working.ipynb\" target=\"_parent\"><img src=\"https://colab.research.google.com/assets/colab-badge.svg\" alt=\"Open In Colab\"/></a>"
      ]
    },
    {
      "cell_type": "code",
      "execution_count": 1,
      "metadata": {
        "colab": {
          "base_uri": "https://localhost:8080/"
        },
        "id": "JbL6lebc7_tt",
        "outputId": "2c374940-ae98-48a8-a9a8-7b684b95178a"
      },
      "outputs": [
        {
          "name": "stdout",
          "output_type": "stream",
          "text": [
            "\r0% [Working]\r            \rGet:1 https://cloud.r-project.org/bin/linux/ubuntu bionic-cran40/ InRelease [3,626 B]\n",
            "\r0% [Connecting to archive.ubuntu.com] [Connecting to security.ubuntu.com] [1 In\r0% [Connecting to archive.ubuntu.com] [Connecting to security.ubuntu.com] [Wait\r0% [1 InRelease gpgv 3,626 B] [Connecting to archive.ubuntu.com (185.125.190.39\r                                                                               \rIgn:2 https://developer.download.nvidia.com/compute/machine-learning/repos/ubuntu1804/x86_64  InRelease\n",
            "\r0% [1 InRelease gpgv 3,626 B] [Connecting to archive.ubuntu.com (185.125.190.39\r                                                                               \rGet:3 http://security.ubuntu.com/ubuntu bionic-security InRelease [88.7 kB]\n",
            "\r                                                                               \rGet:4 https://developer.download.nvidia.com/compute/cuda/repos/ubuntu1804/x86_64  InRelease [1,581 B]\n",
            "\r0% [1 InRelease gpgv 3,626 B] [Connecting to archive.ubuntu.com (185.125.190.39\r0% [1 InRelease gpgv 3,626 B] [Connecting to archive.ubuntu.com (185.125.190.39\r                                                                               \rHit:5 https://developer.download.nvidia.com/compute/machine-learning/repos/ubuntu1804/x86_64  Release\n",
            "Hit:6 http://ppa.launchpad.net/c2d4u.team/c2d4u4.0+/ubuntu bionic InRelease\n",
            "Hit:7 http://archive.ubuntu.com/ubuntu bionic InRelease\n",
            "Get:8 http://archive.ubuntu.com/ubuntu bionic-updates InRelease [88.7 kB]\n",
            "Hit:9 http://ppa.launchpad.net/cran/libgit2/ubuntu bionic InRelease\n",
            "Get:10 https://developer.download.nvidia.com/compute/cuda/repos/ubuntu1804/x86_64  Packages [1,038 kB]\n",
            "Hit:11 http://ppa.launchpad.net/deadsnakes/ppa/ubuntu bionic InRelease\n",
            "Get:12 http://archive.ubuntu.com/ubuntu bionic-backports InRelease [83.3 kB]\n",
            "Get:13 http://ppa.launchpad.net/graphics-drivers/ppa/ubuntu bionic InRelease [21.3 kB]\n",
            "Get:15 http://security.ubuntu.com/ubuntu bionic-security/universe amd64 Packages [1,563 kB]\n",
            "Get:16 http://security.ubuntu.com/ubuntu bionic-security/restricted amd64 Packages [1,262 kB]\n",
            "Get:17 http://security.ubuntu.com/ubuntu bionic-security/main amd64 Packages [3,071 kB]\n",
            "Get:18 http://archive.ubuntu.com/ubuntu bionic-updates/restricted amd64 Packages [1,303 kB]\n",
            "Get:19 http://ppa.launchpad.net/graphics-drivers/ppa/ubuntu bionic/main amd64 Packages [38.5 kB]\n",
            "Get:20 http://archive.ubuntu.com/ubuntu bionic-updates/universe amd64 Packages [2,338 kB]\n",
            "Get:21 http://archive.ubuntu.com/ubuntu bionic-updates/main amd64 Packages [3,497 kB]\n",
            "Fetched 14.4 MB in 8s (1,820 kB/s)\n",
            "Reading package lists... Done\n"
          ]
        }
      ],
      "source": [
        " import os\n",
        " import pandas as pd\n",
        "# Find the latest version of spark 3.2  from http://www.apache.org/dist/spark/ and enter as the spark version\n",
        "# For example:\n",
        "spark_version = 'spark-3.2.3'\n",
        "\n",
        "os.environ['SPARK_VERSION']=spark_version\n",
        "\n",
        "# Install Spark and Java\n",
        "!apt-get update\n",
        "!apt-get install openjdk-8-jdk-headless -qq > /dev/null\n",
        "!wget -q http://www.apache.org/dist/spark/$SPARK_VERSION/$SPARK_VERSION-bin-hadoop2.7.tgz\n",
        "!tar xf $SPARK_VERSION-bin-hadoop2.7.tgz\n",
        "!pip install -q findspark\n",
        "\n",
        "# Set Environment Variables\n",
        "import os\n",
        "os.environ[\"JAVA_HOME\"] = \"/usr/lib/jvm/java-8-openjdk-amd64\"\n",
        "os.environ[\"SPARK_HOME\"] = f\"/content/{spark_version}-bin-hadoop2.7\"\n",
        "\n",
        "# Start a SparkSession\n",
        "import findspark\n",
        "findspark.init()\n",
        "\n",
        "#sys.path.append(\"/opt/spark-3.2.1-bin-hadoop3.2/python\")\n",
        "#sys.path.append(\"/opt/spark-3.2.1-bin-hadoop3.2/python/lib/py4j-0.10.4-src.zip\")"
      ]
    },
    {
      "cell_type": "code",
      "execution_count": 2,
      "metadata": {
        "colab": {
          "base_uri": "https://localhost:8080/"
        },
        "id": "zMgOdNiAE1nA",
        "outputId": "7ebfc5ab-6258-462a-bac9-ccd72cb7f251"
      },
      "outputs": [
        {
          "name": "stdout",
          "output_type": "stream",
          "text": [
            "--2022-11-29 15:10:34--  https://jdbc.postgresql.org/download/postgresql-42.2.9.jar\n",
            "Resolving jdbc.postgresql.org (jdbc.postgresql.org)... 72.32.157.228, 2001:4800:3e1:1::228\n",
            "Connecting to jdbc.postgresql.org (jdbc.postgresql.org)|72.32.157.228|:443... connected.\n",
            "HTTP request sent, awaiting response... 200 OK\n",
            "Length: 914037 (893K) [application/java-archive]\n",
            "Saving to: ‘postgresql-42.2.9.jar’\n",
            "\n",
            "postgresql-42.2.9.j 100%[===================>] 892.61K  --.-KB/s    in 0.08s   \n",
            "\n",
            "2022-11-29 15:10:34 (10.6 MB/s) - ‘postgresql-42.2.9.jar’ saved [914037/914037]\n",
            "\n"
          ]
        }
      ],
      "source": [
        "# Install the PostgreSQL driver in our Colab environment\n",
        "!wget https://jdbc.postgresql.org/download/postgresql-42.2.9.jar"
      ]
    },
    {
      "cell_type": "code",
      "execution_count": 3,
      "metadata": {
        "id": "S1RB59PnFNBE"
      },
      "outputs": [],
      "source": [
        "# Import modules\n",
        "from pyspark import SparkFiles\n",
        "\n",
        "from pyspark.sql import SparkSession\n",
        "spark = SparkSession.builder.appName(\"CloudETL\").config(\"spark.driver.extraClassPath\",\"/content/postgresql-42.2.9.jar\").getOrCreate()\n"
      ]
    },
    {
      "cell_type": "code",
      "execution_count": 4,
      "metadata": {
        "colab": {
          "base_uri": "https://localhost:8080/"
        },
        "id": "WjAUtBY-G13O",
        "outputId": "22c854b6-7fc5-4679-9e83-5f9171a1bbf4"
      },
      "outputs": [
        {
          "name": "stdout",
          "output_type": "stream",
          "text": [
            "+-----------+-----------+--------------+----------+--------------+--------------------+----------------+-----------+-------------+-----------+----+-----------------+--------------------+--------------------+-------------------+\n",
            "|marketplace|customer_id|     review_id|product_id|product_parent|       product_title|product_category|star_rating|helpful_votes|total_votes|vine|verified_purchase|     review_headline|         review_body|        review_date|\n",
            "+-----------+-----------+--------------+----------+--------------+--------------------+----------------+-----------+-------------+-----------+----+-----------------+--------------------+--------------------+-------------------+\n",
            "|         US|    3653882|R3O9SGZBVQBV76|B00FALQ1ZC|     937001370|Invicta Women's 1...|         Watches|          5|            0|          0|   N|                Y|          Five Stars|Absolutely love t...|2015-01-31 00:08:00|\n",
            "|         US|   14661224| RKH8BNC3L5DLF|B00D3RGO20|     484010722|Kenneth Cole New ...|         Watches|          5|            0|          0|   N|                Y|I love thiswatch ...|I love this watch...|2015-01-31 00:08:00|\n",
            "|         US|   27324930|R2HLE8WKZSU3NL|B00DKYC7TK|     361166390|Ritche 22mm Black...|         Watches|          2|            1|          1|   N|                Y|           Two Stars|           Scratches|2015-01-31 00:08:00|\n",
            "|         US|    7211452|R31U3UH5AZ42LL|B000EQS1JW|     958035625|Citizen Men's BM8...|         Watches|          5|            0|          0|   N|                Y|          Five Stars|It works well on ...|2015-01-31 00:08:00|\n",
            "|         US|   12733322|R2SV659OUJ945Y|B00A6GFD7S|     765328221|Orient ER27009B M...|         Watches|          4|            0|          0|   N|                Y|Beautiful face, b...|Beautiful watch f...|2015-01-31 00:08:00|\n",
            "|         US|    6576411| RA51CP8TR5A2L|B00EYSOSE8|     230493695|Casio Men's GW-94...|         Watches|          5|            0|          0|   N|                Y|       No complaints|i love this watch...|2015-01-31 00:08:00|\n",
            "|         US|   11811565| RB2Q7DLDN6TH6|B00WM0QA3M|     549298279|Fossil Women's ES...|         Watches|          5|            1|          1|   N|                Y|          Five Stars|for my wife and s...|2015-01-31 00:08:00|\n",
            "|         US|   49401598|R2RHFJV0UYBK3Y|B00A4EYBR0|     844009113|INFANTRY Mens Nig...|         Watches|          1|            1|          5|   N|                N|I was about to bu...|I was about to bu...|2015-01-31 00:08:00|\n",
            "|         US|   45925069|R2Z6JOQ94LFHEP|B00MAMPGGE|     263720892|G-Shock Men's Gre...|         Watches|          5|            1|          2|   N|                Y|      Perfect watch!|Watch is perfect....|2015-01-31 00:08:00|\n",
            "|         US|   44751341| RX27XIIWY5JPB|B004LBPB7Q|     124278407|Heiden Quad Watch...|         Watches|          4|            0|          0|   N|                Y|Great quality and...|Great quality and...|2015-01-31 00:08:00|\n",
            "|         US|    9962330|R15C7QEZT0LGZN|B00KGTVGKS|      28017857|Fossil Women's ES...|         Watches|          4|            2|          2|   N|                Y|           Satisfied|The watch was pre...|2015-01-31 00:08:00|\n",
            "|         US|   16097204|R361XSS37V0NCZ|B0039UT5OU|     685450910|Casio General Men...|         Watches|          1|            0|          0|   N|                N|I do not think th...|I bought this wat...|2015-01-31 00:08:00|\n",
            "|         US|   51330346| ROTNLALUAJAUB|B00MPF0XJQ|     767769082|2Tone Gold Silver...|         Watches|          3|            0|          0|   N|                Y|         Three Stars|It is a cheap wat...|2015-01-31 00:08:00|\n",
            "|         US|    4201739|R2DYX7QU6BGOHR|B003P1OHHS|     648595227|Bulova Men's 98B1...|         Watches|          5|            0|          0|   N|                Y|          Five Stars|Heavier than i th...|2015-01-31 00:08:00|\n",
            "|         US|   26339765| RWASY7FKI7QOT|B00R70YEOE|     457338020|Casio - G-Shock -...|         Watches|          5|            2|          3|   N|                Y|  Worth it - love it|Had it for severa...|2015-01-31 00:08:00|\n",
            "|         US|    2692576|R2KKYZIN3CCL21|B000FVE3BG|     824370661|Invicta Men's 332...|         Watches|          5|            0|          0|   N|                Y|This is when diff...|This one is diffe...|2015-01-31 00:08:00|\n",
            "|         US|   44713366|R22H4FGVD5O52O|B008X6JB12|     814431355|Seiko Women's SUT...|         Watches|          4|            1|          1|   N|                Y|Thewatch is attra...|The watch is attr...|2015-01-31 00:08:00|\n",
            "|         US|   32778769|R11UACZERCM4ZY|B0040UOFPW|     187700878|Anne Klein Women'...|         Watches|          5|            0|          0|   N|                Y|          Five Stars|      said my wife..|2015-01-31 00:08:00|\n",
            "|         US|   27258523|R1AT8NQ38UQOL6|B00UR2R5UY|     594315262|Guess U13630G1 Me...|         Watches|          5|            0|          0|   N|                Y|          Five Stars|Nice watch, on ti...|2015-01-31 00:08:00|\n",
            "|         US|   42646538|R2NCZRQGIF1Q75|B00HFF57L0|     520810507|Nixon Men's Geo V...|         Watches|          4|            0|          0|   N|                Y|        Very stylish|Looks great and l...|2015-01-31 00:08:00|\n",
            "+-----------+-----------+--------------+----------+--------------+--------------------+----------------+-----------+-------------+-----------+----+-----------------+--------------------+--------------------+-------------------+\n",
            "only showing top 20 rows\n",
            "\n"
          ]
        }
      ],
      "source": [
        "from posixpath import sep\n",
        "#Load data\n",
        "base_url = \"https://s3.amazonaws.com/amazon-reviews-pds/tsv/\"\n",
        "file = \"amazon_reviews_us_Watches_v1_00.tsv.gz\"\n",
        "url = base_url + file\n",
        "spark.sparkContext.addFile(url)\n",
        "\n",
        "# Initial DF\n",
        "df = spark.read.option('header', 'true').csv(SparkFiles.get(file),\n",
        "                                             inferSchema=True,\n",
        "                                             sep='\\t',\n",
        "                                             timestampFormat = \"yyyy-mm-dd\")\n",
        "df.show(truncate=True)"
      ]
    },
    {
      "cell_type": "code",
      "execution_count": 5,
      "metadata": {
        "id": "l8zBfBjCIiLR"
      },
      "outputs": [],
      "source": [
        "# Cleaning time . . .\n",
        "df = df.dropna()\n",
        "df = df.dropDuplicates()"
      ]
    },
    {
      "cell_type": "code",
      "execution_count": 6,
      "metadata": {
        "colab": {
          "base_uri": "https://localhost:8080/"
        },
        "id": "tP5SCYcrI384",
        "outputId": "5f7a5055-bcd7-4d0a-c36b-933a55087360"
      },
      "outputs": [
        {
          "data": {
            "text/plain": [
              "960679"
            ]
          },
          "execution_count": 6,
          "metadata": {},
          "output_type": "execute_result"
        }
      ],
      "source": [
        "# Row count\n",
        "df.count()"
      ]
    },
    {
      "cell_type": "code",
      "execution_count": 7,
      "metadata": {
        "colab": {
          "base_uri": "https://localhost:8080/"
        },
        "id": "QNM4jhJzI8QQ",
        "outputId": "da221533-7b43-47fd-a371-c11a04136e7a"
      },
      "outputs": [
        {
          "name": "stdout",
          "output_type": "stream",
          "text": [
            "root\n",
            " |-- marketplace: string (nullable = true)\n",
            " |-- customer_id: integer (nullable = true)\n",
            " |-- review_id: string (nullable = true)\n",
            " |-- product_id: string (nullable = true)\n",
            " |-- product_parent: integer (nullable = true)\n",
            " |-- product_title: string (nullable = true)\n",
            " |-- product_category: string (nullable = true)\n",
            " |-- star_rating: integer (nullable = true)\n",
            " |-- helpful_votes: integer (nullable = true)\n",
            " |-- total_votes: integer (nullable = true)\n",
            " |-- vine: string (nullable = true)\n",
            " |-- verified_purchase: string (nullable = true)\n",
            " |-- review_headline: string (nullable = true)\n",
            " |-- review_body: string (nullable = true)\n",
            " |-- review_date: timestamp (nullable = true)\n",
            "\n"
          ]
        }
      ],
      "source": [
        "#Schema\n",
        "df.printSchema()"
      ]
    },
    {
      "cell_type": "code",
      "execution_count": null,
      "metadata": {
        "id": "BH6lTdbbSOwX"
      },
      "outputs": [],
      "source": [
        " # IMPORTANT: Replace each of these parameters with your own values for your AWS RDS instance\n",
        "my_aws_endpoint = 'big-data-challenge.ch9chhy09aqn.us-west-2.rds.amazonaws.com' # This is my value; please replace with your own\n",
        "my_aws_port_number = '5432' # Your value is likely the same, but please double check\n",
        "my_aws_database_name = 'big_data_etl' # This is my value; please replace with your own\n",
        "my_aws_username = 'postgres' # Your value is likely the same, but please double check\n",
        "my_aws_password = 'XXXXXXXX' # This is my value; please replace with your own\n",
        "\n",
        " # Define the connection string\n",
        "jdbc_url=f'jdbc:postgresql://{my_aws_endpoint}:{my_aws_port_number}/{my_aws_database_name}'"
      ]
    },
    {
      "cell_type": "code",
      "execution_count": null,
      "metadata": {
        "id": "VLzPTZISVeAX"
      },
      "outputs": [],
      "source": [
        " # Define the connection string\n",
        "jdbc_url=f'jdbc:postgresql://{my_aws_endpoint}:{my_aws_port_number}/{my_aws_database_name}'\n",
        "\n",
        "# Set up the configuration parameters\n",
        "config = {\"user\": f'{my_aws_username}', \n",
        "          \"password\": f'{my_aws_password}', \n",
        "          \"driver\":\"org.postgresql.Driver\"}\n",
        "\n",
        "\n",
        "mode = 'overwrite' "
      ]
    },
    {
      "cell_type": "code",
      "execution_count": 8,
      "metadata": {
        "colab": {
          "base_uri": "https://localhost:8080/"
        },
        "id": "SfaLEJjaJLtm",
        "outputId": "269f44c2-4182-44a0-dfe5-5f47f9de4726"
      },
      "outputs": [
        {
          "name": "stdout",
          "output_type": "stream",
          "text": [
            "+----------+--------------+--------------------+\n",
            "|product_id|product_parent|       product_title|\n",
            "+----------+--------------+--------------------+\n",
            "|B002XUL6YY|     852892099|Rip Curl Men's A1...|\n",
            "|B005JVP0LE|     559701518|Casio Men's Sport...|\n",
            "|B0009P66YK|       6220965|Invicta Men's 901...|\n",
            "|B008MVVA2Q|     849986272|U.S. Polo Assn. C...|\n",
            "|B001D9FGAG|     940154187|Invicta Men's 524...|\n",
            "|B007I1PLUI|     906701484|Rudiger Men's R20...|\n",
            "|B0041IEATO|     950717807|Invicta Women's 0...|\n",
            "|B000JQSMQO|     963972840|Fossil Men's Blue...|\n",
            "|B001CTI5SM|     243892088|Invicta Men's 505...|\n",
            "|B00JMPN3RQ|     849006421|Swiss Legend Men'...|\n",
            "|B000K6HILI|      13227568|Invicta Women's 3...|\n",
            "|B0051UMEHG|     732465657|Hadley Roma MS834...|\n",
            "|B004IBT2D8|     946540922|Geneva Platinum W...|\n",
            "|B00EAU0IDA|      60629838|Compact Watch Bra...|\n",
            "|B000SSPML6|     722719968|Seiko Men's SGG71...|\n",
            "|B0046CIYAG|     420607996|Roberto Bianci Me...|\n",
            "|B004RQ5A4O|     835018862|Watch Band Rubber...|\n",
            "|B006KY5TLK|     369164039|Timex Women's T5K...|\n",
            "|B009S4U1F8|     643298590|Batman Kids' BAT9...|\n",
            "|B00GG0TSIS|     635911787|DKNY Women's NY21...|\n",
            "+----------+--------------+--------------------+\n",
            "only showing top 20 rows\n",
            "\n"
          ]
        }
      ],
      "source": [
        "# Watches df\n",
        "#watches = df[['product_id', 'product_parent', 'product_title']]\n",
        "watches = df.select(['product_id', 'product_parent', 'product_title'])\n",
        "watches.show(truncate=True)\n",
        "\n",
        "\n",
        "\n",
        "# Push to PostgreSQL\n",
        "\n",
        "watches.write.jdbc(url = jdbc_url, table = 'watches', mode = mode, properties = config)\n"
      ]
    },
    {
      "cell_type": "code",
      "execution_count": 9,
      "metadata": {
        "colab": {
          "base_uri": "https://localhost:8080/"
        },
        "id": "EB6BuHtA_8Xr",
        "outputId": "97b4c47d-0c25-4d77-949c-70561c218bc9"
      },
      "outputs": [
        {
          "name": "stdout",
          "output_type": "stream",
          "text": [
            "root\n",
            " |-- product_id: string (nullable = true)\n",
            " |-- product_parent: integer (nullable = true)\n",
            " |-- product_title: string (nullable = true)\n",
            "\n"
          ]
        }
      ],
      "source": [
        "watches.printSchema()"
      ]
    },
    {
      "cell_type": "code",
      "execution_count": 10,
      "metadata": {
        "colab": {
          "base_uri": "https://localhost:8080/"
        },
        "id": "InzemgDvQ6Ut",
        "outputId": "08b159cd-493f-4125-ef81-58c0a7802e95"
      },
      "outputs": [
        {
          "name": "stdout",
          "output_type": "stream",
          "text": [
            "+--------------+-----------+----------+--------------+-------------------+\n",
            "|     review_id|customer_id|product_id|product_parent|        review_date|\n",
            "+--------------+-----------+----------+--------------+-------------------+\n",
            "|R1004K426LTDKN|   15688375|B002XUL6YY|     852892099|2014-01-22 00:05:00|\n",
            "|R1006QGKXQ3Q96|   21739087|B005JVP0LE|     559701518|2014-01-16 00:06:00|\n",
            "|R1017P0ZGRXSR0|    2501262|B0009P66YK|       6220965|2015-01-26 00:02:00|\n",
            "|R103HXXDQD9W4Y|   16842563|B008MVVA2Q|     849986272|2014-01-30 00:12:00|\n",
            "|R10472PWW2S2AW|   52130705|B001D9FGAG|     940154187|2009-01-27 00:01:00|\n",
            "|R104EYLG2ZXXJ1|   41518340|B007I1PLUI|     906701484|2014-01-27 00:11:00|\n",
            "|R105KF16VGOILR|   48845798|B0041IEATO|     950717807|2011-01-02 00:09:00|\n",
            "|R106A2ETV5NZNE|   50381801|B000JQSMQO|     963972840|2012-01-16 00:12:00|\n",
            "|R106UPPPFIIX3P|   42038724|B001CTI5SM|     243892088|2013-01-17 00:08:00|\n",
            "|R107IKXXNUAZZC|    1594613|B00JMPN3RQ|     849006421|2015-01-11 00:08:00|\n",
            "|R1081CHIZX3PZW|   45986458|B000K6HILI|      13227568|2010-01-13 00:05:00|\n",
            "|R1092B4NE0WNDD|   41579481|B0051UMEHG|     732465657|2015-01-22 00:01:00|\n",
            "|R109WVVOK26661|   44657888|B004IBT2D8|     946540922|2015-01-10 00:03:00|\n",
            "|R10AQ92VE5HTJ6|   13461149|B00EAU0IDA|      60629838|2014-01-12 00:03:00|\n",
            "|R10B0JU67L0MDU|   39172276|B000SSPML6|     722719968|2014-01-28 00:05:00|\n",
            "|R10CZGWX0WIAM6|   33679768|B0046CIYAG|     420607996|2013-01-23 00:01:00|\n",
            "|R10DTIJZK1SU21|   13174936|B004RQ5A4O|     835018862|2012-01-18 00:12:00|\n",
            "|R10G1B9243UZU4|    4550966|B006KY5TLK|     369164039|2015-01-05 00:06:00|\n",
            "|R10G2Z75B0VH5S|   17574505|B009S4U1F8|     643298590|2013-01-08 00:12:00|\n",
            "|R10IMWN6T9R3OF|    2688548|B00GG0TSIS|     635911787|2015-01-03 00:02:00|\n",
            "+--------------+-----------+----------+--------------+-------------------+\n",
            "only showing top 20 rows\n",
            "\n"
          ]
        }
      ],
      "source": [
        "# Reviews df\n",
        "watch_reviews = df = df.select(['review_id', 'customer_id', 'product_id', 'product_parent', 'review_date'])\n",
        "watch_reviews.show(truncate=True)\n",
        "\n",
        "watch_reviews.write.jdbc(url=jdbc_url,\n",
        "                   table = 'watch_reviews',\n",
        "                   mode = mode,\n",
        "                   properties = config)"
      ]
    },
    {
      "cell_type": "code",
      "execution_count": 11,
      "metadata": {
        "colab": {
          "base_uri": "https://localhost:8080/"
        },
        "id": "h8xoo-4RA--i",
        "outputId": "5f4e20dc-904d-40e2-8d05-b7060e066027"
      },
      "outputs": [
        {
          "name": "stdout",
          "output_type": "stream",
          "text": [
            "root\n",
            " |-- review_id: string (nullable = true)\n",
            " |-- customer_id: integer (nullable = true)\n",
            " |-- product_id: string (nullable = true)\n",
            " |-- product_parent: integer (nullable = true)\n",
            " |-- review_date: timestamp (nullable = true)\n",
            "\n"
          ]
        }
      ],
      "source": [
        "watch_reviews.printSchema()"
      ]
    },
    {
      "cell_type": "code",
      "execution_count": 12,
      "metadata": {
        "colab": {
          "base_uri": "https://localhost:8080/"
        },
        "id": "jUUpEBgqByL5",
        "outputId": "236dd80c-90a7-40cf-b2ce-bb46045e6999"
      },
      "outputs": [
        {
          "name": "stdout",
          "output_type": "stream",
          "text": [
            "+-----------+--------------+\n",
            "|customer_id|customer_count|\n",
            "+-----------+--------------+\n",
            "|   45353385|             1|\n",
            "|    7166154|             1|\n",
            "|   27053878|             1|\n",
            "|   33656295|             1|\n",
            "|   34320055|             1|\n",
            "|   12611685|             1|\n",
            "|   26417168|             5|\n",
            "|   16885399|             3|\n",
            "|   49090853|             1|\n",
            "|   48080283|             1|\n",
            "|   12937506|             5|\n",
            "|   42209526|             1|\n",
            "|   36125184|             1|\n",
            "|   50308356|             1|\n",
            "|   13273143|             1|\n",
            "|   30675744|             1|\n",
            "|   10196801|             3|\n",
            "|   10748967|             1|\n",
            "|   44443429|             1|\n",
            "|   15687327|             2|\n",
            "+-----------+--------------+\n",
            "only showing top 20 rows\n",
            "\n"
          ]
        }
      ],
      "source": [
        "# Customers\n",
        "watch_customers = df.select(['customer_id'])\n",
        "watch_customers = watch_customers.groupBy('customer_id').count()\n",
        "watch_customers = watch_customers.withColumnRenamed('count','customer_count')\n",
        "watch_customers.show(truncate=True)\n",
        "\n",
        "# Push to PostgreSQL\n",
        "watch_customers.write.jdbc(url=jdbc_url,\n",
        "                     table = 'watch_customers',\n",
        "                     mode=mode,\n",
        "                     properties = config)\n"
      ]
    },
    {
      "cell_type": "code",
      "execution_count": 14,
      "metadata": {
        "colab": {
          "base_uri": "https://localhost:8080/"
        },
        "id": "s74lG5RULE8f",
        "outputId": "ad0bc7f5-09eb-46e3-b174-fd95f52d1ba2"
      },
      "outputs": [
        {
          "name": "stdout",
          "output_type": "stream",
          "text": [
            "root\n",
            " |-- customer_id: integer (nullable = true)\n",
            " |-- customer_count: long (nullable = false)\n",
            "\n"
          ]
        }
      ],
      "source": [
        "watch_customers.printSchema()"
      ]
    },
    {
      "cell_type": "code",
      "execution_count": null,
      "metadata": {
        "id": "xJNhVBlsCZ3d"
      },
      "outputs": [],
      "source": []
    }
  ],
  "metadata": {
    "colab": {
      "authorship_tag": "ABX9TyOMAlZakbVRfPwjCoJSGDHF",
      "include_colab_link": true,
      "provenance": [],
      "toc_visible": true
    },
    "kernelspec": {
      "display_name": "Python 3.9.6 64-bit",
      "language": "python",
      "name": "python3"
    },
    "language_info": {
      "name": "python",
      "version": "3.9.6"
    },
    "vscode": {
      "interpreter": {
        "hash": "31f2aee4e71d21fbe5cf8b01ff0e069b9275f58929596ceb00d14d90e3e16cd6"
      }
    }
  },
  "nbformat": 4,
  "nbformat_minor": 0
}
