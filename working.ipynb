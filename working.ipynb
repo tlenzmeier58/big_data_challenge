{
  "nbformat": 4,
  "nbformat_minor": 0,
  "metadata": {
    "colab": {
      "provenance": [],
      "toc_visible": true,
      "authorship_tag": "ABX9TyOhMecfl9P5nXafgTLM1mIN",
      "include_colab_link": true
    },
    "kernelspec": {
      "name": "python3",
      "display_name": "Python 3"
    },
    "language_info": {
      "name": "python"
    }
  },
  "cells": [
    {
      "cell_type": "markdown",
      "metadata": {
        "id": "view-in-github",
        "colab_type": "text"
      },
      "source": [
        "<a href=\"https://colab.research.google.com/github/tlenzmeier58/big_data_challenge/blob/main/working.ipynb\" target=\"_parent\"><img src=\"https://colab.research.google.com/assets/colab-badge.svg\" alt=\"Open In Colab\"/></a>"
      ]
    },
    {
      "cell_type": "code",
      "execution_count": null,
      "metadata": {
        "colab": {
          "base_uri": "https://localhost:8080/"
        },
        "id": "JbL6lebc7_tt",
        "outputId": "d7e68376-f8a7-4bc5-d722-033c222bc6a7"
      },
      "outputs": [
        {
          "output_type": "stream",
          "name": "stdout",
          "text": [
            "\r0% [Working]\r            \rHit:1 https://cloud.r-project.org/bin/linux/ubuntu bionic-cran40/ InRelease\n",
            "\r0% [Connecting to archive.ubuntu.com (185.125.190.39)] [Connecting to security.\r0% [1 InRelease gpgv 3,626 B] [Connecting to archive.ubuntu.com (185.125.190.39\r                                                                               \rIgn:2 https://developer.download.nvidia.com/compute/machine-learning/repos/ubuntu1804/x86_64  InRelease\n",
            "\r0% [1 InRelease gpgv 3,626 B] [Connecting to archive.ubuntu.com (185.125.190.39\r                                                                               \rHit:3 https://developer.download.nvidia.com/compute/cuda/repos/ubuntu1804/x86_64  InRelease\n",
            "\r0% [1 InRelease gpgv 3,626 B] [Connecting to archive.ubuntu.com (185.125.190.39\r                                                                               \rHit:4 http://security.ubuntu.com/ubuntu bionic-security InRelease\n",
            "Hit:5 https://developer.download.nvidia.com/compute/machine-learning/repos/ubuntu1804/x86_64  Release\n",
            "Hit:6 http://ppa.launchpad.net/c2d4u.team/c2d4u4.0+/ubuntu bionic InRelease\n",
            "Hit:7 http://archive.ubuntu.com/ubuntu bionic InRelease\n",
            "Hit:8 http://archive.ubuntu.com/ubuntu bionic-updates InRelease\n",
            "Hit:9 http://ppa.launchpad.net/cran/libgit2/ubuntu bionic InRelease\n",
            "Hit:10 http://archive.ubuntu.com/ubuntu bionic-backports InRelease\n",
            "Hit:11 http://ppa.launchpad.net/deadsnakes/ppa/ubuntu bionic InRelease\n",
            "Hit:13 http://ppa.launchpad.net/graphics-drivers/ppa/ubuntu bionic InRelease\n",
            "Reading package lists... Done\n"
          ]
        }
      ],
      "source": [
        " import os\n",
        " import pandas as pd\n",
        "# Find the latest version of spark 3.2  from http://www.apache.org/dist/spark/ and enter as the spark version\n",
        "# For example:\n",
        "spark_version = 'spark-3.2.3'\n",
        "\n",
        "os.environ['SPARK_VERSION']=spark_version\n",
        "\n",
        "# Install Spark and Java\n",
        "!apt-get update\n",
        "!apt-get install openjdk-8-jdk-headless -qq > /dev/null\n",
        "!wget -q http://www.apache.org/dist/spark/$SPARK_VERSION/$SPARK_VERSION-bin-hadoop2.7.tgz\n",
        "!tar xf $SPARK_VERSION-bin-hadoop2.7.tgz\n",
        "!pip install -q findspark\n",
        "\n",
        "# Set Environment Variables\n",
        "import os\n",
        "os.environ[\"JAVA_HOME\"] = \"/usr/lib/jvm/java-8-openjdk-amd64\"\n",
        "os.environ[\"SPARK_HOME\"] = f\"/content/{spark_version}-bin-hadoop2.7\"\n",
        "\n",
        "# Start a SparkSession\n",
        "import findspark\n",
        "findspark.init()\n",
        "\n",
        "#sys.path.append(\"/opt/spark-3.2.1-bin-hadoop3.2/python\")\n",
        "#sys.path.append(\"/opt/spark-3.2.1-bin-hadoop3.2/python/lib/py4j-0.10.4-src.zip\")"
      ]
    },
    {
      "cell_type": "code",
      "source": [
        "# Install the PostgreSQL driver in our Colab environment\n",
        "!wget https://jdbc.postgresql.org/download/postgresql-42.2.9.jar"
      ],
      "metadata": {
        "colab": {
          "base_uri": "https://localhost:8080/"
        },
        "id": "zMgOdNiAE1nA",
        "outputId": "b06034f4-e0a1-4818-9dd4-7da2c56377ef"
      },
      "execution_count": null,
      "outputs": [
        {
          "output_type": "stream",
          "name": "stdout",
          "text": [
            "--2022-11-29 01:14:48--  https://jdbc.postgresql.org/download/postgresql-42.2.9.jar\n",
            "Resolving jdbc.postgresql.org (jdbc.postgresql.org)... 72.32.157.228, 2001:4800:3e1:1::228\n",
            "Connecting to jdbc.postgresql.org (jdbc.postgresql.org)|72.32.157.228|:443... connected.\n",
            "HTTP request sent, awaiting response... 200 OK\n",
            "Length: 914037 (893K) [application/java-archive]\n",
            "Saving to: ‘postgresql-42.2.9.jar.4’\n",
            "\n",
            "postgresql-42.2.9.j 100%[===================>] 892.61K  4.49MB/s    in 0.2s    \n",
            "\n",
            "2022-11-29 01:14:48 (4.49 MB/s) - ‘postgresql-42.2.9.jar.4’ saved [914037/914037]\n",
            "\n"
          ]
        }
      ]
    },
    {
      "cell_type": "code",
      "source": [
        "# Import modules\n",
        "from pyspark import SparkFiles\n",
        "\n",
        "from pyspark.sql import SparkSession\n",
        "spark = SparkSession.builder.appName(\"CloudETL\").config(\"spark.driver.extraClassPath\",\"/content/postgresql-42.2.9.jar\").getOrCreate()\n"
      ],
      "metadata": {
        "id": "S1RB59PnFNBE"
      },
      "execution_count": null,
      "outputs": []
    },
    {
      "cell_type": "code",
      "source": [
        "from posixpath import sep\n",
        "#Load data\n",
        "base_url = \"https://s3.amazonaws.com/amazon-reviews-pds/tsv/\"\n",
        "file = \"amazon_reviews_us_Watches_v1_00.tsv.gz\"\n",
        "url = base_url + file\n",
        "spark.sparkContext.addFile(url)\n",
        "\n",
        "# Initial DF\n",
        "df = spark.read.option('header', 'true').csv(SparkFiles.get(file),\n",
        "                                             inferSchema=True,\n",
        "                                             sep='\\t',\n",
        "                                             timestampFormat = \"yyyy-mm-dd\")\n",
        "df.head()"
      ],
      "metadata": {
        "id": "WjAUtBY-G13O",
        "colab": {
          "base_uri": "https://localhost:8080/"
        },
        "outputId": "e96b5853-8005-47b2-c4a8-9e81d1f770de"
      },
      "execution_count": null,
      "outputs": [
        {
          "output_type": "execute_result",
          "data": {
            "text/plain": [
              "Row(marketplace='US', customer_id=3653882, review_id='R3O9SGZBVQBV76', product_id='B00FALQ1ZC', product_parent=937001370, product_title='Invicta Women\\'s 15150 \"Angel\" 18k Yellow Gold Ion-Plated Stainless Steel and Brown Leather Watch', product_category='Watches', star_rating=5, helpful_votes=0, total_votes=0, vine='N', verified_purchase='Y', review_headline='Five Stars', review_body='Absolutely love this watch! Get compliments almost every time I wear it. Dainty.', review_date=datetime.datetime(2015, 1, 31, 0, 8))"
            ]
          },
          "metadata": {},
          "execution_count": 36
        }
      ]
    },
    {
      "cell_type": "code",
      "source": [
        "# Cleaning time . . .\n",
        "df = df.dropna()\n",
        "df = df.dropDuplicates()"
      ],
      "metadata": {
        "id": "l8zBfBjCIiLR"
      },
      "execution_count": null,
      "outputs": []
    },
    {
      "cell_type": "code",
      "source": [
        "# Row count\n",
        "df.count()"
      ],
      "metadata": {
        "colab": {
          "base_uri": "https://localhost:8080/"
        },
        "id": "tP5SCYcrI384",
        "outputId": "76c871c6-c0f5-45c6-fee3-66755ef164cf"
      },
      "execution_count": null,
      "outputs": [
        {
          "output_type": "execute_result",
          "data": {
            "text/plain": [
              "960872"
            ]
          },
          "metadata": {},
          "execution_count": 37
        }
      ]
    },
    {
      "cell_type": "code",
      "source": [
        "#Schema\n",
        "df.printSchema()"
      ],
      "metadata": {
        "id": "QNM4jhJzI8QQ",
        "colab": {
          "base_uri": "https://localhost:8080/"
        },
        "outputId": "a08d06b3-ebe5-4c84-d6eb-ac188c4c3252"
      },
      "execution_count": null,
      "outputs": [
        {
          "output_type": "stream",
          "name": "stdout",
          "text": [
            "root\n",
            " |-- marketplace: string (nullable = true)\n",
            " |-- customer_id: integer (nullable = true)\n",
            " |-- review_id: string (nullable = true)\n",
            " |-- product_id: string (nullable = true)\n",
            " |-- product_parent: integer (nullable = true)\n",
            " |-- product_title: string (nullable = true)\n",
            " |-- product_category: string (nullable = true)\n",
            " |-- star_rating: integer (nullable = true)\n",
            " |-- helpful_votes: integer (nullable = true)\n",
            " |-- total_votes: integer (nullable = true)\n",
            " |-- vine: string (nullable = true)\n",
            " |-- verified_purchase: string (nullable = true)\n",
            " |-- review_headline: string (nullable = true)\n",
            " |-- review_body: string (nullable = true)\n",
            " |-- review_date: timestamp (nullable = true)\n",
            "\n"
          ]
        }
      ]
    },
    {
      "cell_type": "code",
      "source": [
        " # IMPORTANT: Replace each of these parameters with your own values for your AWS RDS instance\n",
        "my_aws_endpoint = 'big-data-challenge.ch9chhy09aqn.us-west-2.rds.amazonaws.com' # This is my value; please replace with your own\n",
        "my_aws_port_number = '5432' # Your value is likely the same, but please double check\n",
        "my_aws_database_name = 'big_data_etl' # This is my value; please replace with your own\n",
        "my_aws_username = 'postgres' # Your value is likely the same, but please double check\n",
        "my_aws_password = 'LyNnE3055!' # This is my value; please replace with your own\n",
        "\n",
        " # Define the connection string\n",
        "jdbc_url=f'jdbc:postgresql://{my_aws_endpoint}:{my_aws_port_number}/{my_aws_database_name}'"
      ],
      "metadata": {
        "id": "BH6lTdbbSOwX"
      },
      "execution_count": null,
      "outputs": []
    },
    {
      "cell_type": "code",
      "source": [
        " # Define the connection string\n",
        "jdbc_url=f'jdbc:postgresql://{my_aws_endpoint}:{my_aws_port_number}/{my_aws_database_name}'\n",
        "\n",
        "# Set up the configuration parameters\n",
        "config = {\"user\": f'{my_aws_username}', \n",
        "          \"password\": f'{my_aws_password}', \n",
        "          \"driver\":\"org.postgresql.Driver\"}\n",
        "\n",
        "\n",
        "mode = 'overwrite' "
      ],
      "metadata": {
        "id": "VLzPTZISVeAX"
      },
      "execution_count": null,
      "outputs": []
    },
    {
      "cell_type": "code",
      "source": [
        "# Watches df\n",
        "watches = df[['product_id', 'product_parent', 'product_title']]\n",
        "watches.head()\n",
        "\n",
        "\n",
        "\n",
        "# Push to PostgreSQL\n",
        "\n",
        "watches.write.jdbc(url = jdbc_url,\n",
        "                   table = 'watches',\n",
        "                  mode = mode,\n",
        "                 properties = config)\n"
      ],
      "metadata": {
        "id": "SfaLEJjaJLtm",
        "colab": {
          "base_uri": "https://localhost:8080/"
        },
        "outputId": "03972fdc-7065-4c75-e0d6-242569b3d8a4"
      },
      "execution_count": null,
      "outputs": [
        {
          "output_type": "execute_result",
          "data": {
            "text/plain": [
              "Row(product_id='B00FALQ1ZC', product_parent=937001370, product_title='Invicta Women\\'s 15150 \"Angel\" 18k Yellow Gold Ion-Plated Stainless Steel and Brown Leather Watch')"
            ]
          },
          "metadata": {},
          "execution_count": 41
        }
      ]
    },
    {
      "cell_type": "code",
      "source": [
        "# Reviews df\n",
        "watch_reviews = df = df[['review_id', 'customer_id', 'product_id', 'product_parent', 'review_date']]\n",
        "watch_reviews.head()\n",
        "\n",
        "watch_reviews.write.jdbc(url=jdbc_url,\n",
        "                   table = 'watch_reviews',\n",
        "                   mode = mode,\n",
        "                   properties = config)"
      ],
      "metadata": {
        "id": "InzemgDvQ6Ut"
      },
      "execution_count": null,
      "outputs": []
    },
    {
      "cell_type": "code",
      "source": [
        "# Customers\n",
        "watch_customers = df[['customer_id']]\n",
        "watch_customers = watch_customers.groupBy('customer_id').count()\n",
        "watch_customers = watch_customers.withColumnRenamed('count','customer_count')\n",
        "watch_customers.head()\n",
        "\n",
        "# Push to PostgreSQL\n",
        "watch_customers.write.jdbc(url=jdbc_url,\n",
        "                     table = 'watch_customers',\n",
        "                     mode=mode,\n",
        "                     properties = config)\n"
      ],
      "metadata": {
        "id": "jUUpEBgqByL5"
      },
      "execution_count": null,
      "outputs": []
    },
    {
      "cell_type": "code",
      "source": [],
      "metadata": {
        "id": "s74lG5RULE8f"
      },
      "execution_count": null,
      "outputs": []
    }
  ]
}